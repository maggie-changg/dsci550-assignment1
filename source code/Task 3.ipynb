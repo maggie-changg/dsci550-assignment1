{
 "cells": [
  {
   "cell_type": "code",
   "execution_count": 5,
   "id": "0dd27cee",
   "metadata": {},
   "outputs": [],
   "source": [
    "import pandas as pd\n",
    "import numpy as np\n",
    "import os"
   ]
  },
  {
   "cell_type": "markdown",
   "id": "45fd2dd6",
   "metadata": {},
   "source": [
    "Task 3: Create a combined TSV file"
   ]
  },
  {
   "cell_type": "code",
   "execution_count": 2,
   "id": "749a042b",
   "metadata": {},
   "outputs": [],
   "source": [
    "data = pd.read_csv(\"../data/haunted_places.csv\")\n",
    "tsv_file_path = \"../data/haunted_places.tsv\"\n",
    "data.to_csv(tsv_file_path, sep='\\t', index=False)"
   ]
  },
  {
   "cell_type": "code",
   "execution_count": 3,
   "id": "e7b047e5",
   "metadata": {},
   "outputs": [],
   "source": [
    "haunted_places = pd.read_csv(\"../data/haunted_places.tsv\", sep='\\t')"
   ]
  },
  {
   "cell_type": "code",
   "execution_count": 4,
   "id": "d7123ef8",
   "metadata": {},
   "outputs": [
    {
     "name": "stdout",
     "output_type": "stream",
     "text": [
      "                city        country  \\\n",
      "0                Ada  United States   \n",
      "1            Addison  United States   \n",
      "2             Adrian  United States   \n",
      "3             Adrian  United States   \n",
      "4             Albion  United States   \n",
      "...              ...            ...   \n",
      "10987    Westminster  United States   \n",
      "10988    Westminster  United States   \n",
      "10989    Wheat Ridge  United States   \n",
      "10990    Wheat Ridge  United States   \n",
      "10991  Woodland Park  United States   \n",
      "\n",
      "                                             description  \\\n",
      "0      Ada witch - Sometimes you can see a misty blue...   \n",
      "1      A little girl was killed suddenly while waitin...   \n",
      "2      If you take Gorman Rd. west towards Sand Creek...   \n",
      "3      In the 1970's, one room, room 211, in the old ...   \n",
      "4      Kappa Delta Sorority - The Kappa Delta Sororit...   \n",
      "...                                                  ...   \n",
      "10987  at 12 midnight you can see a lady with two lit...   \n",
      "10988  Is haunted by the victims of a murder that hap...   \n",
      "10989  The institution was for kids 18 years old and ...   \n",
      "10990  Gymnasium -  their have been reports of a litt...   \n",
      "10991  Cadets from the Air Force Academy participatin...   \n",
      "\n",
      "                        location     state state_abbrev   longitude  \\\n",
      "0                   Ada Cemetery  Michigan           MI  -85.504893   \n",
      "1                North Adams Rd.  Michigan           MI  -84.381843   \n",
      "2                  Ghost Trestle  Michigan           MI  -84.035656   \n",
      "3       Siena Heights University  Michigan           MI  -84.017565   \n",
      "4                 Albion College  Michigan           MI  -84.745177   \n",
      "...                          ...       ...          ...         ...   \n",
      "10987                  city hall  Colorado           CO -105.048936   \n",
      "10988             Pillar of Fire  Colorado           CO -105.032091   \n",
      "10989   Ridge Mental Institution  Colorado           CO -105.063974   \n",
      "10990  Wheat Ridge Middle School  Colorado           CO -105.103613   \n",
      "10991         Saylor Park Forest  Colorado           CO -105.022763   \n",
      "\n",
      "        latitude  city_longitude  city_latitude  \n",
      "0      42.962106      -85.495480      42.960727  \n",
      "1      41.971425      -84.347168      41.986434  \n",
      "2      41.904538      -84.037166      41.897547  \n",
      "3      41.905712      -84.037166      41.897547  \n",
      "4      42.244006      -84.753030      42.243097  \n",
      "...          ...             ...            ...  \n",
      "10987  39.862610     -105.037205      39.836653  \n",
      "10988  39.847237     -105.037205      39.836653  \n",
      "10989  39.769726     -105.077206      39.766098  \n",
      "10990  39.764055     -105.077206      39.766098  \n",
      "10991  39.116658     -105.056930      38.993881  \n",
      "\n",
      "[10992 rows x 10 columns]\n"
     ]
    }
   ],
   "source": [
    "print(haunted_places)"
   ]
  },
  {
   "cell_type": "code",
   "execution_count": null,
   "id": "a4e244b0",
   "metadata": {},
   "outputs": [],
   "source": []
  }
 ],
 "metadata": {
  "kernelspec": {
   "display_name": "Python 3",
   "language": "python",
   "name": "python3"
  },
  "language_info": {
   "codemirror_mode": {
    "name": "ipython",
    "version": 3
   },
   "file_extension": ".py",
   "mimetype": "text/x-python",
   "name": "python",
   "nbconvert_exporter": "python",
   "pygments_lexer": "ipython3",
   "version": "3.8.11"
  }
 },
 "nbformat": 4,
 "nbformat_minor": 5
}
