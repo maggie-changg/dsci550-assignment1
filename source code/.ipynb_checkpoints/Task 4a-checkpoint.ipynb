{
 "cells": [
  {
   "cell_type": "markdown",
   "id": "8c73cacc",
   "metadata": {},
   "source": [
    "Add a new feature called “Audio Evidence”. Set it to True if you match text\n",
    "like “noises”, “sound of snapping neck”, “nursery rhymes”, False otherwise"
   ]
  },
  {
   "cell_type": "code",
   "execution_count": 2,
   "id": "b69219de",
   "metadata": {},
   "outputs": [],
   "source": [
    "import pandas as pd\n",
    "import numpy as np"
   ]
  },
  {
   "cell_type": "code",
   "execution_count": 3,
   "id": "e1a57c95",
   "metadata": {},
   "outputs": [],
   "source": [
    "haunted_places = pd.read_csv(\"../data/haunted_places.tsv\", sep='\\t')"
   ]
  },
  {
   "cell_type": "code",
   "execution_count": 4,
   "id": "392e034c",
   "metadata": {},
   "outputs": [],
   "source": [
    "audio = [\"noise\", \"noises\", \"sound\", \"nursery rhymes\", \"hear\", \"hearing\", \"heard\", \"screams\", \"shouts\"]\n",
    "haunted_places[\"Audio Evidence\"] = haunted_places[\"description\"].str.contains(\"|\".join(audio), case=False, na=False)"
   ]
  },
  {
   "cell_type": "code",
   "execution_count": 5,
   "id": "d689bc16",
   "metadata": {},
   "outputs": [],
   "source": [
    "haunted_places.to_csv(\"../data/haunted_places.tsv\", sep='\\t', index=False)"
   ]
  }
 ],
 "metadata": {
  "kernelspec": {
   "display_name": "Python 3",
   "language": "python",
   "name": "python3"
  },
  "language_info": {
   "codemirror_mode": {
    "name": "ipython",
    "version": 3
   },
   "file_extension": ".py",
   "mimetype": "text/x-python",
   "name": "python",
   "nbconvert_exporter": "python",
   "pygments_lexer": "ipython3",
   "version": "3.8.11"
  }
 },
 "nbformat": 4,
 "nbformat_minor": 5
}
