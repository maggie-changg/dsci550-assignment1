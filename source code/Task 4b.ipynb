{
 "cells": [
  {
   "cell_type": "markdown",
   "id": "3b8f0be6",
   "metadata": {},
   "source": [
    "Add a new feature called “Image/Video/Visual Evidence”. Set it to True if\n",
    "you match text like “cameras” and “take pictures”, “names of children\n",
    "written on walls”, etc."
   ]
  },
  {
   "cell_type": "code",
   "execution_count": 1,
   "id": "ca2f0211",
   "metadata": {},
   "outputs": [],
   "source": [
    "import pandas as pd\n",
    "import numpy as np"
   ]
  },
  {
   "cell_type": "code",
   "execution_count": 2,
   "id": "a474e283",
   "metadata": {},
   "outputs": [],
   "source": [
    "haunted_places = pd.read_csv(\"../data/haunted_places.tsv\", sep='\\t')"
   ]
  },
  {
   "cell_type": "code",
   "execution_count": 6,
   "id": "c82b8d3d",
   "metadata": {},
   "outputs": [],
   "source": [
    "visual = [\"cameras\", \"pictures\", \"photographs\", \"video\", \"movie\", \"news\", \"paint\", \"message\", \"see\", \"seen\", \"saw\"]\n",
    "haunted_places[\"Image/Video/Visual Evidence\"] = haunted_places[\"description\"].str.contains(\"|\".join(visual), case=False, na=False)"
   ]
  },
  {
   "cell_type": "code",
   "execution_count": 8,
   "id": "74af22dc",
   "metadata": {},
   "outputs": [],
   "source": [
    "haunted_places.to_csv(\"../data/haunted_places.tsv\", sep='\\t', index=False)"
   ]
  }
 ],
 "metadata": {
  "kernelspec": {
   "display_name": "Python 3",
   "language": "python",
   "name": "python3"
  },
  "language_info": {
   "codemirror_mode": {
    "name": "ipython",
    "version": 3
   },
   "file_extension": ".py",
   "mimetype": "text/x-python",
   "name": "python",
   "nbconvert_exporter": "python",
   "pygments_lexer": "ipython3",
   "version": "3.8.11"
  }
 },
 "nbformat": 4,
 "nbformat_minor": 5
}
